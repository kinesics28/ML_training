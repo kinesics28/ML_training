{
 "cells": [
  {
   "cell_type": "markdown",
   "id": "3ca927cd",
   "metadata": {
    "papermill": {
     "duration": 0.02131,
     "end_time": "2022-06-22T19:55:16.990589",
     "exception": false,
     "start_time": "2022-06-22T19:55:16.969279",
     "status": "completed"
    },
    "tags": []
   },
   "source": [
    "# Linear Regressions \n",
    "\n",
    "> shows the Relation between age and car purchase amount at that age"
   ]
  },
  {
   "cell_type": "code",
   "execution_count": 1,
   "id": "16b378af",
   "metadata": {
    "execution": {
     "iopub.execute_input": "2022-06-22T19:55:17.047302Z",
     "iopub.status.busy": "2022-06-22T19:55:17.046552Z",
     "iopub.status.idle": "2022-06-22T19:55:18.673629Z",
     "shell.execute_reply": "2022-06-22T19:55:18.672329Z",
     "shell.execute_reply.started": "2022-06-22T19:46:10.529677Z"
    },
    "papermill": {
     "duration": 1.661661,
     "end_time": "2022-06-22T19:55:18.673896",
     "exception": false,
     "start_time": "2022-06-22T19:55:17.012235",
     "status": "completed"
    },
    "tags": []
   },
   "outputs": [],
   "source": [
    "import numpy as np # linear algebra\n",
    "import pandas as pd # data processing, CSV file I/O (e.g. pd.read_csv)\n",
    "import matplotlib.pyplot as plt\n",
    "from sklearn.linear_model import LinearRegression\n",
    "from sklearn.model_selection import train_test_split\n"
   ]
  },
  {
   "cell_type": "markdown",
   "id": "473f77c5",
   "metadata": {
    "papermill": {
     "duration": 0.020668,
     "end_time": "2022-06-22T19:55:18.715988",
     "exception": false,
     "start_time": "2022-06-22T19:55:18.695320",
     "status": "completed"
    },
    "tags": []
   },
   "source": [
    "### Load the data you receive into a Pandas DataFrame.-> Show the first five rows of the data set."
   ]
  },
  {
   "cell_type": "code",
   "execution_count": 2,
   "id": "7898f083",
   "metadata": {
    "execution": {
     "iopub.execute_input": "2022-06-22T19:55:18.760913Z",
     "iopub.status.busy": "2022-06-22T19:55:18.759888Z",
     "iopub.status.idle": "2022-06-22T19:55:18.807589Z",
     "shell.execute_reply": "2022-06-22T19:55:18.806807Z",
     "shell.execute_reply.started": "2022-06-22T19:46:17.168935Z"
    },
    "papermill": {
     "duration": 0.072965,
     "end_time": "2022-06-22T19:55:18.807770",
     "exception": false,
     "start_time": "2022-06-22T19:55:18.734805",
     "status": "completed"
    },
    "tags": []
   },
   "outputs": [
    {
     "data": {
      "text/html": [
       "<div>\n",
       "<style scoped>\n",
       "    .dataframe tbody tr th:only-of-type {\n",
       "        vertical-align: middle;\n",
       "    }\n",
       "\n",
       "    .dataframe tbody tr th {\n",
       "        vertical-align: top;\n",
       "    }\n",
       "\n",
       "    .dataframe thead th {\n",
       "        text-align: right;\n",
       "    }\n",
       "</style>\n",
       "<table border=\"1\" class=\"dataframe\">\n",
       "  <thead>\n",
       "    <tr style=\"text-align: right;\">\n",
       "      <th></th>\n",
       "      <th>Customer Name</th>\n",
       "      <th>Customer e-mail</th>\n",
       "      <th>Country</th>\n",
       "      <th>Gender</th>\n",
       "      <th>Age</th>\n",
       "      <th>Annual Salary</th>\n",
       "      <th>Credit Card Debt</th>\n",
       "      <th>Net Worth</th>\n",
       "      <th>Car Purchase Amount</th>\n",
       "    </tr>\n",
       "  </thead>\n",
       "  <tbody>\n",
       "    <tr>\n",
       "      <th>0</th>\n",
       "      <td>Martina Avila</td>\n",
       "      <td>cubilia.Curae.Phasellus@quisaccumsanconvallis.edu</td>\n",
       "      <td>USA</td>\n",
       "      <td>0</td>\n",
       "      <td>42</td>\n",
       "      <td>62812.09301</td>\n",
       "      <td>11609.380910</td>\n",
       "      <td>238961.2505</td>\n",
       "      <td>35321.45877</td>\n",
       "    </tr>\n",
       "    <tr>\n",
       "      <th>1</th>\n",
       "      <td>Harlan Barnes</td>\n",
       "      <td>eu.dolor@diam.co.uk</td>\n",
       "      <td>USA</td>\n",
       "      <td>0</td>\n",
       "      <td>41</td>\n",
       "      <td>66646.89292</td>\n",
       "      <td>9572.957136</td>\n",
       "      <td>530973.9078</td>\n",
       "      <td>45115.52566</td>\n",
       "    </tr>\n",
       "    <tr>\n",
       "      <th>2</th>\n",
       "      <td>Naomi Rodriquez</td>\n",
       "      <td>vulputate.mauris.sagittis@ametconsectetueradip...</td>\n",
       "      <td>USA</td>\n",
       "      <td>1</td>\n",
       "      <td>43</td>\n",
       "      <td>53798.55112</td>\n",
       "      <td>11160.355060</td>\n",
       "      <td>638467.1773</td>\n",
       "      <td>42925.70921</td>\n",
       "    </tr>\n",
       "    <tr>\n",
       "      <th>3</th>\n",
       "      <td>Jade Cunningham</td>\n",
       "      <td>malesuada@dignissim.com</td>\n",
       "      <td>USA</td>\n",
       "      <td>1</td>\n",
       "      <td>58</td>\n",
       "      <td>79370.03798</td>\n",
       "      <td>14426.164850</td>\n",
       "      <td>548599.0524</td>\n",
       "      <td>67422.36313</td>\n",
       "    </tr>\n",
       "    <tr>\n",
       "      <th>4</th>\n",
       "      <td>Cedric Leach</td>\n",
       "      <td>felis.ullamcorper.viverra@egetmollislectus.net</td>\n",
       "      <td>USA</td>\n",
       "      <td>1</td>\n",
       "      <td>57</td>\n",
       "      <td>59729.15130</td>\n",
       "      <td>5358.712177</td>\n",
       "      <td>560304.0671</td>\n",
       "      <td>55915.46248</td>\n",
       "    </tr>\n",
       "  </tbody>\n",
       "</table>\n",
       "</div>"
      ],
      "text/plain": [
       "     Customer Name                                    Customer e-mail Country  \\\n",
       "0    Martina Avila  cubilia.Curae.Phasellus@quisaccumsanconvallis.edu     USA   \n",
       "1    Harlan Barnes                                eu.dolor@diam.co.uk     USA   \n",
       "2  Naomi Rodriquez  vulputate.mauris.sagittis@ametconsectetueradip...     USA   \n",
       "3  Jade Cunningham                            malesuada@dignissim.com     USA   \n",
       "4     Cedric Leach     felis.ullamcorper.viverra@egetmollislectus.net     USA   \n",
       "\n",
       "   Gender  Age  Annual Salary  Credit Card Debt    Net Worth  \\\n",
       "0       0   42    62812.09301      11609.380910  238961.2505   \n",
       "1       0   41    66646.89292       9572.957136  530973.9078   \n",
       "2       1   43    53798.55112      11160.355060  638467.1773   \n",
       "3       1   58    79370.03798      14426.164850  548599.0524   \n",
       "4       1   57    59729.15130       5358.712177  560304.0671   \n",
       "\n",
       "   Car Purchase Amount  \n",
       "0          35321.45877  \n",
       "1          45115.52566  \n",
       "2          42925.70921  \n",
       "3          67422.36313  \n",
       "4          55915.46248  "
      ]
     },
     "execution_count": 2,
     "metadata": {},
     "output_type": "execute_result"
    }
   ],
   "source": [
    "data_frame =pd.read_csv('../input/car-purchasing-model/Car_Purchasing_Data.csv')\n",
    "data_frame.head(5)"
   ]
  },
  {
   "cell_type": "markdown",
   "id": "905c1cb9",
   "metadata": {
    "papermill": {
     "duration": 0.019529,
     "end_time": "2022-06-22T19:55:18.850168",
     "exception": false,
     "start_time": "2022-06-22T19:55:18.830639",
     "status": "completed"
    },
    "tags": []
   },
   "source": [
    "### Showing the description and the info of the data set."
   ]
  },
  {
   "cell_type": "markdown",
   "id": "019fee18",
   "metadata": {
    "papermill": {
     "duration": 0.01884,
     "end_time": "2022-06-22T19:55:18.887930",
     "exception": false,
     "start_time": "2022-06-22T19:55:18.869090",
     "status": "completed"
    },
    "tags": []
   },
   "source": [
    "    About this file\n",
    "    This File contain the information of the various people with the following detail which can help us to find out the better prediction and also help us to train our model to predict the correct value and get a good F1 Score.\n",
    "    Customer Name\n",
    "    Customer e-mail\n",
    "    Country\n",
    "    Gender\n",
    "    Age\n",
    "    Annual Salary\n",
    "    Credit Card Debt\n",
    "    Net Worth (Asset – Liabilities)"
   ]
  },
  {
   "cell_type": "code",
   "execution_count": 3,
   "id": "c1630731",
   "metadata": {
    "execution": {
     "iopub.execute_input": "2022-06-22T19:55:18.940416Z",
     "iopub.status.busy": "2022-06-22T19:55:18.939315Z",
     "iopub.status.idle": "2022-06-22T19:55:18.943627Z",
     "shell.execute_reply": "2022-06-22T19:55:18.944224Z",
     "shell.execute_reply.started": "2022-06-22T19:47:20.437235Z"
    },
    "papermill": {
     "duration": 0.036627,
     "end_time": "2022-06-22T19:55:18.944456",
     "exception": false,
     "start_time": "2022-06-22T19:55:18.907829",
     "status": "completed"
    },
    "tags": []
   },
   "outputs": [
    {
     "data": {
      "text/plain": [
       "array([42, 41, 43, 58, 57, 57, 47, 50, 47, 43, 50, 53, 44, 48, 55, 53, 45,\n",
       "       48, 52, 59, 52, 48, 46, 47, 40, 53, 28, 56, 46, 40, 33, 40, 51, 51,\n",
       "       46, 51, 50, 22, 51, 48, 42, 46, 38, 39, 61, 55, 42, 51, 41, 40, 41,\n",
       "       56, 46, 37, 52, 57, 34, 43, 50, 42, 42, 42, 55, 53, 53, 43, 55, 43,\n",
       "       57, 52, 45, 56, 41, 48, 56, 47, 53, 57, 39, 45, 33, 44, 40, 40, 37,\n",
       "       40, 44, 43, 58, 32, 50, 59, 42, 50, 53, 47, 46, 43, 49, 43, 53, 36,\n",
       "       30, 37, 48, 44, 42, 50, 30, 42, 46, 55, 44, 58, 42, 57, 43, 35, 43,\n",
       "       35, 34, 48, 53, 47, 54, 51, 59, 49, 51, 40, 53, 45, 45, 37, 43, 48,\n",
       "       49, 48, 45, 43, 62, 46, 51, 44, 57, 60, 39, 61, 50, 37, 45, 50, 32,\n",
       "       34, 45, 50, 51, 53, 34, 56, 57, 48, 40, 50, 47, 39, 36, 44, 47, 33,\n",
       "       42, 47, 40, 54, 38, 40, 45, 51, 38, 34, 50, 42, 33, 56, 57, 37, 51,\n",
       "       63, 53, 51, 48, 41, 39, 45, 70, 51, 51, 42, 50, 40, 44, 52, 41, 57,\n",
       "       54, 50, 37, 52, 43, 52, 64, 51, 55, 47, 36, 39, 45, 47, 47, 60, 59,\n",
       "       36, 47, 38, 42, 33, 39, 39, 55, 45, 51, 49, 46, 53, 39, 43, 70, 51,\n",
       "       52, 45, 48, 48, 48, 57, 46, 44, 65, 57, 47, 36, 57, 33, 43, 46, 45,\n",
       "       43, 38, 40, 43, 42, 51, 38, 41, 54, 45, 41, 40, 32, 54, 55, 35, 46,\n",
       "       45, 50, 54, 29, 56, 54, 33, 48, 49, 55, 42, 41, 53, 53, 44, 42, 41,\n",
       "       48, 63, 59, 45, 47, 49, 40, 41, 47, 27, 46, 51, 43, 32, 63, 35, 50,\n",
       "       51, 54, 37, 44, 57, 47, 52, 52, 48, 55, 47, 45, 40, 47, 45, 49, 60,\n",
       "       34, 36, 51, 42, 48, 35, 44, 48, 47, 31, 45, 49, 61, 51, 35, 53, 42,\n",
       "       39, 38, 41, 44, 43, 39, 33, 47, 45, 51, 42, 55, 62, 52, 51, 63, 46,\n",
       "       47, 58, 37, 51, 36, 32, 32, 43, 51, 43, 58, 49, 43, 48, 40, 35, 43,\n",
       "       57, 47, 32, 44, 50, 44, 57, 35, 53, 41, 44, 63, 50, 42, 41, 40, 40,\n",
       "       56, 48, 41, 61, 35, 55, 37, 48, 32, 62, 49, 43, 36, 61, 46, 57, 36,\n",
       "       49, 63, 49, 44, 43, 48, 37, 49, 40, 42, 30, 43, 55, 40, 38, 43, 37,\n",
       "       41, 42, 38, 43, 44, 41, 46, 46, 40, 45, 58, 62, 52, 44, 44, 40, 33,\n",
       "       44, 42, 20, 53, 56, 44, 52, 43, 49, 56, 47, 25, 45, 46, 33, 43, 48,\n",
       "       48, 40, 39, 39, 54, 53, 51, 55, 35, 43, 37, 60, 44, 39, 42, 32, 52,\n",
       "       56, 41, 51, 58, 51, 29, 53, 43, 62, 60, 37, 43, 42, 55, 46, 50, 55,\n",
       "       43, 52, 41, 38, 54, 59, 47])"
      ]
     },
     "execution_count": 3,
     "metadata": {},
     "output_type": "execute_result"
    }
   ],
   "source": [
    "X = data_frame['Age'].values\n",
    "X"
   ]
  },
  {
   "cell_type": "code",
   "execution_count": 4,
   "id": "7f12023c",
   "metadata": {
    "execution": {
     "iopub.execute_input": "2022-06-22T19:55:18.993571Z",
     "iopub.status.busy": "2022-06-22T19:55:18.992784Z",
     "iopub.status.idle": "2022-06-22T19:55:18.996198Z",
     "shell.execute_reply": "2022-06-22T19:55:18.996777Z",
     "shell.execute_reply.started": "2022-06-22T19:50:27.829427Z"
    },
    "papermill": {
     "duration": 0.031304,
     "end_time": "2022-06-22T19:55:18.996998",
     "exception": false,
     "start_time": "2022-06-22T19:55:18.965694",
     "status": "completed"
    },
    "tags": []
   },
   "outputs": [
    {
     "data": {
      "text/plain": [
       "array([35321, 45115, 42925, 67422, 55915, 56611, 28925, 47434, 48013,\n",
       "       38189, 59045, 42288, 28700, 49258, 49510, 53017, 41814, 43901,\n",
       "       44633, 54827, 51130, 43402, 47240, 46635, 45078, 44387, 37161,\n",
       "       49091, 58350, 43994, 17584, 44650, 66363, 53489, 39810, 51612,\n",
       "       38978, 10092, 35928, 54823, 45805, 41567, 28031, 27815, 68678,\n",
       "       68925, 34215, 37843, 37883, 48734, 27187, 63738, 48266, 46381,\n",
       "       31978, 48100, 47380, 41425, 38147, 32737, 37348, 47483, 49730,\n",
       "       40093, 42297, 52954, 48104, 43680, 52707, 49392, 30841, 49373,\n",
       "       41903, 45058, 52991, 50958, 41357, 44434, 38502, 41221, 38399,\n",
       "       41456, 30394, 42384, 39002, 19553, 45167, 36019, 50937, 12895,\n",
       "       38955, 51221, 25971, 60670, 54075, 40004, 61593, 39503, 52474,\n",
       "       42187, 57441, 22681, 33640, 31540, 60461, 45738, 34803, 34642,\n",
       "       27586, 54973, 49142, 58840, 57306, 51941, 30240, 67120, 42408,\n",
       "       41451, 42592, 34521, 42213, 41913, 59416, 51402, 54755, 47143,\n",
       "       64391, 37252, 52665, 44001, 51551, 38243, 39766, 40077, 33131,\n",
       "       48622, 47693, 39410, 33428, 32700, 62864, 29425, 44418, 36645,\n",
       "       53655, 45977, 38504, 47935, 60222, 38930, 27810, 47604, 42356,\n",
       "       31300, 42369, 31837, 26499, 38172, 39433, 37714, 57125, 46453,\n",
       "       43855, 55592, 42484, 40879, 20653, 35438, 36112, 38182, 41026,\n",
       "       27889, 43724, 57430, 41104, 49050, 41265, 64545, 29052, 30719,\n",
       "       38763, 39331, 32608, 58045, 54387, 36638, 39522, 42978, 60865,\n",
       "       46380, 56579, 42774, 37879, 45208, 56229, 50455, 49721, 31696,\n",
       "       49220, 46188, 36086, 43264, 40660, 51683, 44525, 48518, 45805,\n",
       "       54850, 32478, 42209, 55125, 47984, 43405, 44577, 37744, 47805,\n",
       "       44846, 46643, 56563, 41673, 61118, 37303, 46892, 56457, 45509,\n",
       "       27625, 46389, 29002, 51355, 42011, 52654, 44432, 46054, 58235,\n",
       "       42990, 50702, 47009, 49399, 42997, 44434, 46325, 46846, 56499,\n",
       "       42773, 52313, 34139, 60763, 66158, 31215, 46135, 56973, 24184,\n",
       "       49079, 37093, 43401, 29092, 48349, 33261, 41327, 49336, 51405,\n",
       "       31249, 43598, 48300, 54013, 38674, 37076, 37947, 41320, 66888,\n",
       "       12536, 39549, 52709, 53502, 52116, 38705, 48025, 59483, 35911,\n",
       "       41034, 51730, 53021, 32828, 29417, 57461, 50441, 41575, 46412,\n",
       "       47610, 70878, 55543, 53848, 39904, 44736, 46937, 28440, 38148,\n",
       "       42747, 29670, 63038, 63248, 42321, 44463, 67092, 22091, 40022,\n",
       "       56071, 49442, 42497, 37084, 51866, 35716, 39892, 35781, 42866,\n",
       "       80000, 60526, 59758, 39606, 58641, 52983, 50666, 59625, 22630,\n",
       "       41137, 53496, 36543, 43503, 31146, 31526, 31083, 45366, 25252,\n",
       "       39888, 52240, 39911, 45857, 30826, 39422, 34678, 23517, 28733,\n",
       "       59096, 50188, 35659, 46398, 32291, 49079, 49348, 41427, 24221,\n",
       "       44424, 60390, 42793, 46935, 58667, 38042, 39270, 54606, 39083,\n",
       "       47984, 46082, 30964, 35726, 49065, 48955, 37183, 46710, 52889,\n",
       "       29754, 60960, 39975, 38545, 56764, 63079, 55700, 36367, 52477,\n",
       "       50296, 37259, 47715, 29540, 60567, 36125, 57303, 51922, 35848,\n",
       "       42704, 55174, 26599, 53993, 47970, 43641, 41679, 63140, 30757,\n",
       "       65592, 37871, 42919, 22599, 70598, 43242, 38138, 30419, 63868,\n",
       "       45112, 44361, 19525, 49991, 61731, 41769, 46402, 37376, 33766,\n",
       "       30667, 52056, 30736, 39439, 38174, 40589, 62028, 48465, 40095,\n",
       "       49568, 31408, 47719, 35784, 42905, 48516, 45593, 32061, 32208,\n",
       "       35475, 29519, 55420, 42139, 50539, 34922, 43898, 39135, 41147,\n",
       "       24134, 42705, 38901, 28645, 52150, 66648, 42909, 49248, 27303,\n",
       "       47869, 59984, 45271,  9000, 46012, 32967, 48785, 45824, 40102,\n",
       "       35457, 29556, 38243, 44430, 51046, 52570, 61404, 28463, 27586,\n",
       "       47979, 28164, 69669, 48052, 37364, 44500, 35139, 55167, 48383,\n",
       "       35823, 36517, 53110, 53049, 21471, 45015, 55377, 56510, 47443,\n",
       "       41489, 32553, 41984, 59538, 41352, 52785, 60117, 47760, 64188,\n",
       "       48901, 31491, 64147, 45442, 45107])"
      ]
     },
     "execution_count": 4,
     "metadata": {},
     "output_type": "execute_result"
    }
   ],
   "source": [
    "Y = data_frame['Car Purchase Amount'].values.astype(int) \n",
    "Y"
   ]
  },
  {
   "cell_type": "code",
   "execution_count": 5,
   "id": "a57a8c81",
   "metadata": {
    "execution": {
     "iopub.execute_input": "2022-06-22T19:55:19.049283Z",
     "iopub.status.busy": "2022-06-22T19:55:19.048554Z",
     "iopub.status.idle": "2022-06-22T19:55:19.051670Z",
     "shell.execute_reply": "2022-06-22T19:55:19.050876Z",
     "shell.execute_reply.started": "2022-06-22T19:51:18.634904Z"
    },
    "papermill": {
     "duration": 0.030336,
     "end_time": "2022-06-22T19:55:19.051854",
     "exception": false,
     "start_time": "2022-06-22T19:55:19.021518",
     "status": "completed"
    },
    "tags": []
   },
   "outputs": [],
   "source": [
    "x_train, x_test ,y_train, y_test =train_test_split(X,Y, train_size=0.80,test_size=0.20,random_state=777)"
   ]
  },
  {
   "cell_type": "markdown",
   "id": "461ccd55",
   "metadata": {
    "papermill": {
     "duration": 0.019962,
     "end_time": "2022-06-22T19:55:19.093307",
     "exception": false,
     "start_time": "2022-06-22T19:55:19.073345",
     "status": "completed"
    },
    "tags": []
   },
   "source": [
    "### creating the linear regression model"
   ]
  },
  {
   "cell_type": "code",
   "execution_count": 6,
   "id": "1f3e3610",
   "metadata": {
    "execution": {
     "iopub.execute_input": "2022-06-22T19:55:19.149463Z",
     "iopub.status.busy": "2022-06-22T19:55:19.148602Z",
     "iopub.status.idle": "2022-06-22T19:55:19.163032Z",
     "shell.execute_reply": "2022-06-22T19:55:19.162308Z",
     "shell.execute_reply.started": "2022-06-22T19:52:30.091573Z"
    },
    "papermill": {
     "duration": 0.047738,
     "end_time": "2022-06-22T19:55:19.163213",
     "exception": false,
     "start_time": "2022-06-22T19:55:19.115475",
     "status": "completed"
    },
    "tags": []
   },
   "outputs": [
    {
     "data": {
      "text/plain": [
       "(array([854.9914453]), 4767.377042839435)"
      ]
     },
     "execution_count": 6,
     "metadata": {},
     "output_type": "execute_result"
    }
   ],
   "source": [
    "model = LinearRegression()\n",
    "model.fit(x_train.reshape(-1,1),y_train)\n",
    "model.coef_,model.intercept_  # finding coeficeint and intercipt pointwith y axis to draw the Red Regression Line"
   ]
  },
  {
   "cell_type": "markdown",
   "id": "0e79e868",
   "metadata": {
    "papermill": {
     "duration": 0.022841,
     "end_time": "2022-06-22T19:55:19.206832",
     "exception": false,
     "start_time": "2022-06-22T19:55:19.183991",
     "status": "completed"
    },
    "tags": []
   },
   "source": [
    "### Predicting the output based on regression model"
   ]
  },
  {
   "cell_type": "code",
   "execution_count": 7,
   "id": "defc4ebc",
   "metadata": {
    "execution": {
     "iopub.execute_input": "2022-06-22T19:55:19.255709Z",
     "iopub.status.busy": "2022-06-22T19:55:19.254876Z",
     "iopub.status.idle": "2022-06-22T19:55:19.262521Z",
     "shell.execute_reply": "2022-06-22T19:55:19.261586Z",
     "shell.execute_reply.started": "2022-06-22T19:52:35.052383Z"
    },
    "papermill": {
     "duration": 0.034118,
     "end_time": "2022-06-22T19:55:19.262715",
     "exception": false,
     "start_time": "2022-06-22T19:55:19.228597",
     "status": "completed"
    },
    "tags": []
   },
   "outputs": [
    {
     "data": {
      "text/plain": [
       "array([36402, 40677, 51791, 50081, 40677, 38967, 34692, 42387, 37257,\n",
       "       48371, 34692, 58631, 64616, 53501, 37257, 56921, 44096, 45806,\n",
       "       32127, 44096, 49226, 54356, 35547, 47516, 38967, 41532, 50936,\n",
       "       43241, 38112, 43241, 35547, 41532, 47516, 42387, 50936, 41532,\n",
       "       44951, 58631, 38967, 50081, 41532, 39822, 45806, 53501, 47516,\n",
       "       42387, 47516, 50081, 45806, 43241, 50936, 42387, 42387, 45806,\n",
       "       44096, 35547, 53501, 53501, 48371, 47516, 37257, 40677, 32127,\n",
       "       40677, 48371, 38112, 38112, 49226, 55211, 44951, 53501, 40677,\n",
       "       47516, 50081, 38112, 43241, 49226, 48371, 40677, 34692, 33837,\n",
       "       38112, 44951, 39822, 50936, 50936, 45806, 41532, 53501, 41532,\n",
       "       43241, 42387, 36402, 53501, 37257, 39822, 45806, 45806, 51791,\n",
       "       47516])"
      ]
     },
     "execution_count": 7,
     "metadata": {},
     "output_type": "execute_result"
    }
   ],
   "source": [
    "y_predict = model.predict(x_test.reshape(-1,1)).astype(int) #astype used again ref link is up\n",
    "y_predict"
   ]
  },
  {
   "cell_type": "markdown",
   "id": "d7ee1a4a",
   "metadata": {
    "papermill": {
     "duration": 0.02125,
     "end_time": "2022-06-22T19:55:19.305109",
     "exception": false,
     "start_time": "2022-06-22T19:55:19.283859",
     "status": "completed"
    },
    "tags": []
   },
   "source": [
    "### finding training accuracy"
   ]
  },
  {
   "cell_type": "code",
   "execution_count": 8,
   "id": "f9c054b0",
   "metadata": {
    "execution": {
     "iopub.execute_input": "2022-06-22T19:55:19.356857Z",
     "iopub.status.busy": "2022-06-22T19:55:19.356040Z",
     "iopub.status.idle": "2022-06-22T19:55:19.359930Z",
     "shell.execute_reply": "2022-06-22T19:55:19.360624Z",
     "shell.execute_reply.started": "2022-06-22T19:52:43.192540Z"
    },
    "papermill": {
     "duration": 0.033497,
     "end_time": "2022-06-22T19:55:19.360862",
     "exception": false,
     "start_time": "2022-06-22T19:55:19.327365",
     "status": "completed"
    },
    "tags": []
   },
   "outputs": [
    {
     "data": {
      "text/plain": [
       "0.4200738311926854"
      ]
     },
     "execution_count": 8,
     "metadata": {},
     "output_type": "execute_result"
    }
   ],
   "source": [
    "train_accuracy= model.score(x_train.reshape(-1,1),y_train)\n",
    "train_accuracy"
   ]
  },
  {
   "cell_type": "code",
   "execution_count": 9,
   "id": "3457ef2b",
   "metadata": {
    "execution": {
     "iopub.execute_input": "2022-06-22T19:55:19.414034Z",
     "iopub.status.busy": "2022-06-22T19:55:19.412922Z",
     "iopub.status.idle": "2022-06-22T19:55:19.419889Z",
     "shell.execute_reply": "2022-06-22T19:55:19.420506Z",
     "shell.execute_reply.started": "2022-06-22T19:52:48.446742Z"
    },
    "papermill": {
     "duration": 0.036326,
     "end_time": "2022-06-22T19:55:19.420738",
     "exception": false,
     "start_time": "2022-06-22T19:55:19.384412",
     "status": "completed"
    },
    "tags": []
   },
   "outputs": [
    {
     "data": {
      "text/plain": [
       "0.3317320540473093"
      ]
     },
     "execution_count": 9,
     "metadata": {},
     "output_type": "execute_result"
    }
   ],
   "source": [
    "train_accuracy= model.score(x_test.reshape(-1,1),y_test)\n",
    "train_accuracy"
   ]
  },
  {
   "cell_type": "code",
   "execution_count": 10,
   "id": "91c671eb",
   "metadata": {
    "execution": {
     "iopub.execute_input": "2022-06-22T19:55:19.473315Z",
     "iopub.status.busy": "2022-06-22T19:55:19.472446Z",
     "iopub.status.idle": "2022-06-22T19:55:19.476836Z",
     "shell.execute_reply": "2022-06-22T19:55:19.477470Z",
     "shell.execute_reply.started": "2022-06-22T19:52:52.106845Z"
    },
    "papermill": {
     "duration": 0.033568,
     "end_time": "2022-06-22T19:55:19.477728",
     "exception": false,
     "start_time": "2022-06-22T19:55:19.444160",
     "status": "completed"
    },
    "tags": []
   },
   "outputs": [],
   "source": [
    "new_tested_data=np.array([36]).reshape(-1,1)"
   ]
  },
  {
   "cell_type": "code",
   "execution_count": 11,
   "id": "93207975",
   "metadata": {
    "execution": {
     "iopub.execute_input": "2022-06-22T19:55:19.529751Z",
     "iopub.status.busy": "2022-06-22T19:55:19.525675Z",
     "iopub.status.idle": "2022-06-22T19:55:19.533652Z",
     "shell.execute_reply": "2022-06-22T19:55:19.534222Z",
     "shell.execute_reply.started": "2022-06-22T19:53:17.786253Z"
    },
    "papermill": {
     "duration": 0.035323,
     "end_time": "2022-06-22T19:55:19.534477",
     "exception": false,
     "start_time": "2022-06-22T19:55:19.499154",
     "status": "completed"
    },
    "tags": []
   },
   "outputs": [
    {
     "data": {
      "text/plain": [
       "array([35547.06907358])"
      ]
     },
     "execution_count": 11,
     "metadata": {},
     "output_type": "execute_result"
    }
   ],
   "source": [
    "model.predict(new_tested_data)"
   ]
  },
  {
   "cell_type": "code",
   "execution_count": 12,
   "id": "b2ed2fe6",
   "metadata": {
    "execution": {
     "iopub.execute_input": "2022-06-22T19:55:19.585980Z",
     "iopub.status.busy": "2022-06-22T19:55:19.585031Z",
     "iopub.status.idle": "2022-06-22T19:55:19.923699Z",
     "shell.execute_reply": "2022-06-22T19:55:19.922927Z",
     "shell.execute_reply.started": "2022-06-22T19:53:25.303637Z"
    },
    "papermill": {
     "duration": 0.366955,
     "end_time": "2022-06-22T19:55:19.923896",
     "exception": false,
     "start_time": "2022-06-22T19:55:19.556941",
     "status": "completed"
    },
    "tags": []
   },
   "outputs": [
    {
     "data": {
      "text/plain": [
       "[<matplotlib.lines.Line2D at 0x7f25f0e98690>]"
      ]
     },
     "execution_count": 12,
     "metadata": {},
     "output_type": "execute_result"
    },
    {
     "data": {
      "image/png": "[encoded data removed]",
      "text/plain": [
       "<Figure size 432x288 with 1 Axes>"
      ]
     },
     "metadata": {
      "needs_background": "light"
     },
     "output_type": "display_data"
    }
   ],
   "source": [
    "%matplotlib inline\n",
    "plt.scatter(X,Y)\n",
    "plt.xlabel(\"Age\")\n",
    "plt.ylabel(\"Car Purchase Amount\")\n",
    "plt.title(\"Linear Regression\")\n",
    "m, b = np.polyfit(X,Y, 1)\n",
    "\n",
    "\n",
    "plt.plot(X, m*X + b,'Red')"
   ]
  }
 ],
 "metadata": {
  "kernelspec": {
   "display_name": "Python 3",
   "language": "python",
   "name": "python3"
  },
  "language_info": {
   "codemirror_mode": {
    "name": "ipython",
    "version": 3
   },
   "file_extension": ".py",
   "mimetype": "text/x-python",
   "name": "python",
   "nbconvert_exporter": "python",
   "pygments_lexer": "ipython3",
   "version": "3.7.12"
  },
  "papermill": {
   "default_parameters": {},
   "duration": 19.272042,
   "end_time": "2022-06-22T19:55:20.862078",
   "environment_variables": {},
   "exception": null,
   "input_path": "__notebook__.ipynb",
   "output_path": "__notebook__.ipynb",
   "parameters": {},
   "start_time": "2022-06-22T19:55:01.590036",
   "version": "2.3.3"
  }
 },
 "nbformat": 4,
 "nbformat_minor": 5
}
